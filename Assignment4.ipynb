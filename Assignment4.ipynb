{
  "nbformat": 4,
  "nbformat_minor": 0,
  "metadata": {
    "colab": {
      "provenance": []
    },
    "kernelspec": {
      "name": "python3",
      "display_name": "Python 3"
    },
    "language_info": {
      "name": "python"
    }
  },
  "cells": [
    {
      "cell_type": "markdown",
      "source": [
        "Question 1. What is Object-Oriented Programming (OOP)?\n",
        "\n",
        "-- OOP is a programming paradigm based on the concept of objects, which contain data (attributes) and methods (functions). It helps in organizing code, making it reusable, modular, and easier to manage.\n",
        "\n",
        "Question 2.  What is a class in OOP?\n",
        "\n",
        "-- A class in Object-Oriented Programming (OOP) is a blueprint or template for creating objects. It defines attributes (variables) and behaviors (methods/functions) that objects of that class will have.\n",
        "A class does not hold actual data; objects (instances) created from the class hold the data.\n",
        "It helps in organizing code and reusing it efficiently.\n",
        "Objects are created using the class blueprint.\n",
        "\n",
        "Question 3. What is an object in OOP?\n",
        "\n",
        "-- An object is an instance of a class. It represents a real-world entity with attributes (data) and methods (behavior).\n",
        "Key Characteristics of an Object:\n",
        "State (Attributes) – Stores information (e.g., name, age).\n",
        "Behavior (Methods) – Defines actions the object can perform (e.g., walk(), speak()).\n",
        "Identity – Each object is unique, even if it has the same attributes as another object.\n",
        "\n",
        "Question 4. What is the difference between abstraction and encapsulation?\n",
        "\n",
        "-- Abstraction :- Hides complex implementation details and shows only necessary features.Focuses on what an object does.Achieved using abstract classes and interfaces.Used to reduce complexity and improve code usability.\n",
        "example:- A user interacts with an ATM without knowing its internal working.\n",
        "Encapsulation :- Hides object data and restricts direct access to it.Focuses on how data is protected.\n",
        "Achieved using access modifiers (private, protected, public).Used to protect sensitive data and prevent unintended modifications.\n",
        "example:-A bank account class hides balance details and allows deposits/withdrawals through methods.\n",
        "\n",
        "Question 5. What are dunder methods in Python?\n",
        "\n",
        "-- Dunder methods (short for \"double underscore methods\") are special methods in Python that start and end with double underscores (__method__). These methods enable you to customize the behavior of Python objects and define how they interact with built-in operations like addition, comparison, or string representation.\n",
        "\n",
        "Dunder methods are commonly called magic methods or special methods because they allow you to override default behavior for your custom classes.\n",
        "\n",
        "Questions 6. Explain the concept of inheritance in OOP.\n",
        "\n",
        "-- Inheritance is a key feature of Object-Oriented Programming (OOP) that allows one class (called the child class or subclass) to inherit the attributes and methods of another class (called the parent class or superclass). This promotes code reuse and enables the creation of a hierarchical class structure.\n",
        "Inheritance allows subclasses to extend the functionality of the parent class, while still retaining the parent class's features. A subclass can also override parent class methods to provide its own implementation.\n",
        "\n",
        "Question 7. What is polymorphism in OOP?\n",
        "\n",
        "-- Polymorphism is a fundamental concept in Object-Oriented Programming (OOP) that allows objects of different classes to be treated as objects of a common superclass. The key idea behind polymorphism is that it enables the same method to behave differently based on the object it is acting upon.\n",
        "Polymorphism allows a single method or operation to work in multiple ways, depending on the context (the object type).\n",
        "\n",
        "Question 8. How is encapsulation achieved in Python?\n",
        "\n",
        "-- Encapsulation in Python refers to the concept of bundling the data (attributes) and the methods (functions) that operate on the data into a single unit (class) and restricting access to some of the object's components. This is done to prevent direct access to the internal state of an object and to protect it from unauthorized modification.\n",
        "\n",
        "Question 9. What is a Constructor in Python?\n",
        "\n",
        "-- A constructor in Python is a special method used to initialize the state of an object when it is created. In Python, the constructor method is defined using the __init__() method, which is automatically called when a new object of a class is instantiated.\n",
        "\n",
        "The constructor allows you to set up the initial values of the object's attributes, perform setup actions, or allocate resources when an object is created.\n",
        "\n",
        "Question 10. What are class and static methods in Python?\n",
        "\n",
        "-- A class method is a method that is bound to the class and not the instance of the class. It takes the class itself as the first argument, conventionally named cls (short for class). Class methods can access or modify class state (i.e., class variables) but cannot access instance-specific data (i.e., instance variables).\n",
        "\n",
        "Class methods are defined using the @classmethod decorator.\n",
        "They are called on the class itself, not on an instance.\n",
        "\n",
        "A static method is a method that is bound to the class but doesn't take any special first argument like self or cls. It cannot access or modify instance-specific data (i.e., instance variables) or class-level data (i.e., class variables). Static methods are used when you want to perform a task that is related to the class but doesn't need access to class or instance-specific attributes.\n",
        "\n",
        "Static methods are defined using the @staticmethod decorator.\n",
        "They are similar to regular functions, except that they are part of the class's namespace.\n",
        "\n",
        "Question 11. What is method overloading in Python?\n",
        "\n",
        "-- Method overloading refers to the ability to define multiple methods with the same name but with different parameters (number or type) in other programming languages like Java, C++, etc. It allows a method to perform different operations based on the arguments passed to it.\n",
        "However, Python does not support traditional method overloading like other languages because it does not allow defining multiple methods with the same name in the same class. If you define a method with the same name more than once, the last definition will overwrite the previous ones.\n",
        "\n",
        "Question 12. What is method overriding in OOP?\n",
        "\n",
        "-- Method overriding is a feature in Object-Oriented Programming (OOP) where a child class provides its own specific implementation of a method that is already defined in its parent class. When a method in a child class has the same name, same parameters, and same return type as a method in the parent class, the child class method overrides the parent class method.\n",
        "Method overriding allows a child class to modify or extend the behavior of an inherited method.\n",
        "\n",
        "Question 13. What is the @property Decorator in Python?\n",
        "\n",
        "-- The @property decorator in Python is used to define getter methods in a class, allowing you to access an attribute as if it were a regular class variable, while still controlling access to it through a method. Essentially, it lets you define read-only properties or properties with logic behind their access.\n",
        "The @property decorator allows you to encapsulate attribute access in a more controlled way, making your code cleaner and more maintainable by hiding the complexity of getter and setter methods.\n",
        "\n",
        "Question 14. Why is polymorphism important in OOP?\n",
        "\n",
        "-- Polymorphism is crucial in OOP because:\n",
        "It enhances code reusability by enabling you to write generic code that works with different types of objects.\n",
        "It makes code maintenance easier, as changes to specific subclasses don't affect other parts of the code.\n",
        "It improves flexibility and scalability by allowing the system to grow without significant changes to existing code.\n",
        "It supports runtime polymorphism, allowing the method to be determined dynamically based on the object type at runtime.\n",
        "It helps in interface-based design, making the system modular and decoupled.\n",
        "\n",
        "Question 15. What is an Abstract Class in Python?\n",
        "\n",
        "-- An abstract class in Python is a class that cannot be instantiated on its own and must be inherited by other classes. It serves as a blueprint for other classes, allowing you to define common methods that must be implemented by any subclass, while also allowing you to define methods with default behavior that can be inherited.\n",
        "\n",
        "Abstract classes are typically used when you want to define a common interface for a group of related classes but also want to ensure that certain methods are implemented in the subclasses.\n",
        "\n",
        "In Python, abstract classes are defined using the abc (Abstract Base Class) module.\n",
        "\n",
        "Question 16. What are the advantages of OOP?\n",
        "\n",
        "--Modularity: Code is organized into independent, self-contained modules (classes).\n",
        "Reusability: Code can be reused across different parts of the application and even across different projects.\n",
        "Flexibility and Scalability: Easily extend or modify the system as requirements change.\n",
        "Encapsulation: Data is protected from direct access and modification, promoting security.\n",
        "Maintainability: Easier to maintain and update due to clear structure.\n",
        "Troubleshooting: Easier to locate and fix bugs with clear boundaries between objects.\n",
        "Real-World Modeling: More intuitive representation of real-world entities.\n",
        "Teamwork: Multiple developers can work independently on different parts of the system.\n",
        "Data Organization: Well-structured data through objects and classes.\n",
        "Abstraction: Simplifies the user interface and hides unnecessary complexity.\n",
        "\n",
        "Question 17.What is the difference between a class variable and an instance variable?\n",
        "\n",
        "--Class Variables: Shared among all instances of a class; they are defined at the class level and have the same value for all objects of that class.\n",
        "Instance Variables: Unique to each instance of a class; they are defined in the __init__ method and can have different values for different instances.\n",
        "\n",
        "Question 18. What is multiple inheritance in Python?\n",
        "\n",
        "-- Multiple inheritance is a feature in Python (and many other object-oriented languages) where a class can inherit attributes and methods from more than one parent class. This allows the child class to inherit and combine the behavior of multiple base classes.\n",
        "\n",
        "Question 19. Explain the purpose of ‘’__str__’ and ‘__repr__’ ‘ methods in Python.\n",
        "\n",
        "-- The __str__ method is used to define a human-readable string representation of an object. It is intended to provide a user-friendly output when the object is printed or converted to a string.\n",
        "\n",
        "The __repr__ method is used to define an official string representation of the object. It is intended to provide a more unambiguous or detailed representation, often useful for debugging. The goal of __repr__ is to produce a string that, when passed to the eval() function, would ideally create an object with the same state (though it's not always possible).\n",
        "\n",
        "Question 20.What is the significance of the ‘super()’ function in Python?\n",
        "\n",
        "-- The super() function in Python is used to call a method from a parent class (also known as a superclass) within a derived class (child class). It is especially useful in the context of inheritance and method overriding, allowing you to call methods from the parent class in a controlled way.\n",
        "\n",
        "Question 21. What is the significance of the __del__ method in Python?\n",
        "\n",
        "-- The __del__ method in Python is a special method (also known as a destructor) that is called when an object is about to be destroyed or garbage collected. It provides a way to clean up resources, perform necessary final actions, or release resources before the object is removed from memory.\n",
        "\n",
        "Question 22. What is the difference between @staticmethod and @classmethod in Python?\n",
        "\n",
        "-- @staticmethod:\n",
        "Definition: A static method is a method that doesn’t operate on an instance of the class (i.e., it does not have access to the self object). It is bound to the class and can be called on the class itself or an instance.\n",
        "\n",
        "@classmethod:\n",
        "Definition: A class method is a method that is bound to the class itself rather than an instance. It takes a cls parameter (which refers to the class) as its first argument, allowing it to modify the class state, create instances of the class, or call other class methods.\n",
        "\n",
        "Question 23. How does polymorphism work in Python with inheritance?\n",
        "\n",
        "--Polymorphism allows objects of different classes to be treated as instances of a common superclass, enabling the same method to be called on different types of objects, with each class providing its own implementation of that method.\n",
        "In Python, polymorphism is often achieved through method overriding (in inheritance) or duck typing (where the focus is on an object's behavior rather than its class).\n",
        "\n",
        "Question 24. What is method chaining in Python OOP?\n",
        "\n",
        "-- Method Chaining is a technique in object-oriented programming (OOP) where multiple method calls are linked together in a single statement. This is possible because each method call returns the object itself (or another object that supports further method calls). This enables a concise and readable way to perform multiple operations in a single line of code.\n",
        "\n",
        "Question 25. What is the purpose of the __call__ method in Python?\n",
        "\n",
        "-- The __call__ method in Python allows an object to be called as if it were a function. This method provides great flexibility, enabling objects to encapsulate behavior and act in a functional way. It is useful in a variety of scenarios, such as implementing function objects, decorators, callbacks, and more."
      ],
      "metadata": {
        "id": "vY0FVXj_RXbd"
      }
    },
    {
      "cell_type": "code",
      "source": [
        "#Question 1. Create a parent class Animal with a method speak() that prints a generic message. Create a child class Dog that overrides the speak() method to print \"Bark!\"\n",
        "\n",
        "class Animal():\n",
        "  def speak(self):\n",
        "    print(\"Animal is Animal\")\n",
        "\n",
        "class Dog(Animal):\n",
        "  def speak(self):\n",
        "    print(\"Bark!\")\n"
      ],
      "metadata": {
        "id": "xRCRgIoVcXh5"
      },
      "execution_count": null,
      "outputs": []
    },
    {
      "cell_type": "code",
      "source": [
        "my_dog = Dog()\n"
      ],
      "metadata": {
        "id": "deBgIjWbQ9Lo"
      },
      "execution_count": null,
      "outputs": []
    },
    {
      "cell_type": "code",
      "source": [
        "my_dog.speak()"
      ],
      "metadata": {
        "colab": {
          "base_uri": "https://localhost:8080/"
        },
        "id": "_5lMAJ1vQ-VX",
        "outputId": "f21a02a5-d193-4ed0-d351-a746d50e3d0d"
      },
      "execution_count": null,
      "outputs": [
        {
          "output_type": "stream",
          "name": "stdout",
          "text": [
            "Bark!\n"
          ]
        }
      ]
    },
    {
      "cell_type": "code",
      "source": [
        "#Question 2. Write a program to create an abstract class Shape with a method area(). Derive classes Circle and Rectangle from it and implement the area() method in both.\n",
        "\n",
        "from abc import ABC, abstractmethod\n",
        "\n",
        "class Shape(ABC):\n",
        "  @abstractmethod\n",
        "  def area(self):\n",
        "    pass\n",
        "\n",
        "class Circle(Shape):\n",
        "  def __init__(self, radius):\n",
        "    self.radius = radius\n",
        "\n",
        "  def area(self):\n",
        "    print(\"This is the area of circle \")\n",
        "    return 3.14 * self.radius * self.radius\n",
        "\n",
        "\n",
        "class Rectangle(Shape):\n",
        "  def __init__(self,length,width):\n",
        "    self.length = length\n",
        "    self.width = length\n",
        "\n",
        "  def area(self):\n",
        "    print(\"This is the area of rectangle \")\n",
        "    return self.length*self.width\n"
      ],
      "metadata": {
        "id": "QeKuT8nLRAwm"
      },
      "execution_count": null,
      "outputs": []
    },
    {
      "cell_type": "code",
      "source": [
        "cicle = Circle(5)\n",
        "rectangle = Rectangle(5,10)"
      ],
      "metadata": {
        "id": "kQbrE1aHTf3S"
      },
      "execution_count": null,
      "outputs": []
    },
    {
      "cell_type": "code",
      "source": [
        "print(cicle.area())\n",
        "print(rectangle.area())"
      ],
      "metadata": {
        "colab": {
          "base_uri": "https://localhost:8080/"
        },
        "id": "5GflnkdcTnLH",
        "outputId": "8994ac0f-db0c-4c8f-cf28-ed090a5eba0d"
      },
      "execution_count": null,
      "outputs": [
        {
          "output_type": "stream",
          "name": "stdout",
          "text": [
            "This is the area of circle \n",
            "78.5\n",
            "This is the area of rectangle \n",
            "25\n"
          ]
        }
      ]
    },
    {
      "cell_type": "code",
      "source": [
        "#Question 3. Implement a multi-level inheritance scenario where a class Vehicle has an attribute type. Derive a class Car and further derive a class ElectricCar that adds a battery attribute.\n",
        "\n",
        "# Base class\n",
        "class Vehicle:\n",
        "    def __init__(self, vehicle_type):\n",
        "        self.type = vehicle_type\n",
        "\n",
        "    def display_info(self):\n",
        "        print(f\"Vehicle Type: {self.type}\")\n",
        "\n",
        "\n",
        "class Car(Vehicle):\n",
        "    def __init__(self, brand, model, vehicle_type=\"Car\"):\n",
        "        super().__init__(vehicle_type)\n",
        "        self.brand = brand\n",
        "        self.model = model\n",
        "\n",
        "    def display_info(self):\n",
        "        super().display_info()\n",
        "        print(f\"Brand: {self.brand}, Model: {self.model}\")\n",
        "\n",
        "class ElectricCar(Car):\n",
        "    def __init__(self, brand, model, battery_capacity):\n",
        "        super().__init__(brand, model)\n",
        "        self.battery = battery_capacity\n",
        "\n",
        "    def display_info(self):\n",
        "        super().display_info()\n",
        "        print(f\"Battery Capacity: {self.battery} kWh\")\n",
        "\n",
        "\n"
      ],
      "metadata": {
        "id": "pBSfgEAuTzXO"
      },
      "execution_count": null,
      "outputs": []
    },
    {
      "cell_type": "code",
      "source": [
        "tesla = ElectricCar(\"Tesla\", \"Model S\", 100)\n",
        "tesla.display_info()\n"
      ],
      "metadata": {
        "colab": {
          "base_uri": "https://localhost:8080/"
        },
        "id": "ghdpEhoNVvnO",
        "outputId": "3064a511-287e-4e3c-b09b-2cca54d7b112"
      },
      "execution_count": null,
      "outputs": [
        {
          "output_type": "stream",
          "name": "stdout",
          "text": [
            "Vehicle Type: Car\n",
            "Brand: Tesla, Model: Model S\n",
            "Battery Capacity: 100 kWh\n"
          ]
        }
      ]
    },
    {
      "cell_type": "code",
      "source": [
        "#Question 4.  Implement a multi-level inheritance scenario where a class Vehicle has an attribute type. Derive a class Car and further derive a class ElectricCar that adds a battery attribute.\n",
        "\n",
        "# Base class\n",
        "class Vehicle:\n",
        "    def __init__(self, vehicle_type):\n",
        "        self.type = vehicle_type\n",
        "\n",
        "    def display_info(self):\n",
        "        print(f\"Vehicle Type: {self.type}\")\n",
        "\n",
        "\n",
        "class Car(Vehicle):\n",
        "    def __init__(self, brand, model, vehicle_type=\"Car\"):\n",
        "        super().__init__(vehicle_type)\n",
        "        self.brand = brand\n",
        "        self.model = model\n",
        "\n",
        "    def display_info(self):\n",
        "        super().display_info()\n",
        "        print(f\"Brand: {self.brand}, Model: {self.model}\")\n",
        "\n",
        "class ElectricCar(Car):\n",
        "    def __init__(self, brand, model, battery_capacity):\n",
        "        super().__init__(brand, model)\n",
        "        self.battery = battery_capacity\n",
        "\n",
        "    def display_info(self):\n",
        "        super().display_info()\n",
        "        print(f\"Battery Capacity: {self.battery} kWh\")\n"
      ],
      "metadata": {
        "id": "obK0Q47TWwYM"
      },
      "execution_count": null,
      "outputs": []
    },
    {
      "cell_type": "code",
      "source": [
        "Mg = ElectricCar(\"MG\", \"Model S\", 150)\n",
        "Mg.display_info()"
      ],
      "metadata": {
        "colab": {
          "base_uri": "https://localhost:8080/"
        },
        "id": "FyKcy82tW9lP",
        "outputId": "43955402-e751-4c1e-9c49-c0e09a52c449"
      },
      "execution_count": null,
      "outputs": [
        {
          "output_type": "stream",
          "name": "stdout",
          "text": [
            "Vehicle Type: Car\n",
            "Brand: MG, Model: Model S\n",
            "Battery Capacity: 150 kWh\n"
          ]
        }
      ]
    },
    {
      "cell_type": "code",
      "source": [
        "#Question 5. Write a program to demonstrate encapsulation by creating a class BankAccount with private attributes balance and methods to deposit, withdraw, and check balance.\n",
        "\n",
        "class BankAccount:\n",
        "    def __init__(self, initial_balance=0):\n",
        "        self.__balance = initial_balance  # Private attribute\n",
        "\n",
        "    def deposit(self, amount):\n",
        "        if amount > 0:\n",
        "            self.__balance += amount\n",
        "            print(f\"Deposited: ₹{amount}\")\n",
        "        else:\n",
        "            print(\"Deposit amount must be positive, can't be in negative.\")\n",
        "\n",
        "    def withdraw(self, amount):\n",
        "        if 0 < amount <= self.__balance:\n",
        "            self.__balance -= amount\n",
        "            print(f\"Withdrawn: ₹{amount}\")\n",
        "        else:\n",
        "            print(\"Insufficient balance or invalid amount, please enter a valid amount for deposit!.\")\n",
        "\n",
        "    def check_balance(self):\n",
        "        print(f\"Current Balance: ₹{self.__balance}\")"
      ],
      "metadata": {
        "id": "38kBZlPNXhny"
      },
      "execution_count": null,
      "outputs": []
    },
    {
      "cell_type": "code",
      "source": [
        "account = BankAccount(0)\n",
        "account.check_balance()\n",
        "account.deposit(2000)\n",
        "account.withdraw(1000)\n",
        "account.check_balance()"
      ],
      "metadata": {
        "colab": {
          "base_uri": "https://localhost:8080/"
        },
        "id": "bG18KiDKX69e",
        "outputId": "aa8d7da5-a419-4b2f-d6ad-990c25ed6365"
      },
      "execution_count": null,
      "outputs": [
        {
          "output_type": "stream",
          "name": "stdout",
          "text": [
            "Current Balance: ₹0\n",
            "Deposited: ₹2000\n",
            "Withdrawn: ₹1000\n",
            "Current Balance: ₹1000\n"
          ]
        }
      ]
    },
    {
      "cell_type": "code",
      "source": [
        "#Question 6. Demonstrate runtime polymorphism using a method play() in a base class Instrument. Derive classes Guitar and Piano that implement their own version of play().\n",
        "\n",
        "class Instrument:\n",
        "    def play(self):\n",
        "        pass\n",
        "\n",
        "class Guitar(Instrument):\n",
        "    def play(self):\n",
        "        print(\"Playing Guitar\")\n",
        "\n",
        "class Piano(Instrument):\n",
        "    def play(self):\n",
        "        print(\"Playing Piano\")\n",
        "\n",
        "\n"
      ],
      "metadata": {
        "id": "rSdAc3rXYDKa"
      },
      "execution_count": null,
      "outputs": []
    },
    {
      "cell_type": "code",
      "source": [
        "#Question 6. Demonstrate runtime polymorphism using a method play() in a base class Instrument. Derive classes Guitar and Piano that implement their own version of play().\n",
        "\n",
        "class Instrument:\n",
        "    def play(self):\n",
        "        print(\"Playing an instrument...\")\n",
        "\n",
        "\n",
        "class Guitar(Instrument):\n",
        "    def play(self):\n",
        "        print(\"Strumming the guitar 🎸\")\n",
        "\n",
        "\n",
        "class Piano(Instrument):\n",
        "    def play(self):\n",
        "        print(\"Playing the piano 🎹\")\n",
        "\n",
        "def play_instrument(instrument):\n",
        "    instrument.play()\n",
        "\n",
        "\n",
        "\n",
        "\n"
      ],
      "metadata": {
        "id": "omV5uV1kaY1W"
      },
      "execution_count": null,
      "outputs": []
    },
    {
      "cell_type": "code",
      "source": [
        "guitar = Guitar()\n",
        "piano = Piano()\n",
        "play_instrument(guitar)\n",
        "play_instrument(piano)\n"
      ],
      "metadata": {
        "colab": {
          "base_uri": "https://localhost:8080/"
        },
        "id": "K3JgzSKzatzM",
        "outputId": "d87891ae-bff6-4506-f8e6-6f5325a70b1a"
      },
      "execution_count": null,
      "outputs": [
        {
          "output_type": "stream",
          "name": "stdout",
          "text": [
            "Strumming the guitar 🎸\n",
            "Playing the piano 🎹\n"
          ]
        }
      ]
    },
    {
      "cell_type": "code",
      "source": [
        "#Question 7. Create a class MathOperations with a class method add_numbers() to add two numbers and a static method subtract_numbers() to subtract two numbers.\n",
        "\n",
        "class MathOperations():\n",
        "  @classmethod\n",
        "  def add_numbers(cls,a,b):\n",
        "    return a+b\n",
        "  @staticmethod\n",
        "  def subtract_numbers(a,b):\n",
        "    return a-b\n",
        "\n",
        "\n"
      ],
      "metadata": {
        "id": "m8cm6Dx-a9yx"
      },
      "execution_count": null,
      "outputs": []
    },
    {
      "cell_type": "code",
      "source": [
        "num1 = MathOperations()\n"
      ],
      "metadata": {
        "id": "kckxcRTvbvi-"
      },
      "execution_count": null,
      "outputs": []
    },
    {
      "cell_type": "code",
      "source": [
        "num1.add_numbers(5,22)"
      ],
      "metadata": {
        "colab": {
          "base_uri": "https://localhost:8080/"
        },
        "id": "cmRKuEMNciU8",
        "outputId": "09f5a0fa-70fb-4ed2-f386-c4ba47deb298"
      },
      "execution_count": null,
      "outputs": [
        {
          "output_type": "execute_result",
          "data": {
            "text/plain": [
              "27"
            ]
          },
          "metadata": {},
          "execution_count": 64
        }
      ]
    },
    {
      "cell_type": "code",
      "source": [
        "num1.subtract_numbers(10,5)"
      ],
      "metadata": {
        "colab": {
          "base_uri": "https://localhost:8080/"
        },
        "id": "5lPVJnPdcqBz",
        "outputId": "90d90c6b-0ee0-4001-cc28-5c9481b7dcda"
      },
      "execution_count": null,
      "outputs": [
        {
          "output_type": "execute_result",
          "data": {
            "text/plain": [
              "5"
            ]
          },
          "metadata": {},
          "execution_count": 65
        }
      ]
    },
    {
      "cell_type": "code",
      "source": [
        "#Question 8. Implement a class Person with a class method to count the total number of persons created.\n",
        "\n",
        "class Person:\n",
        "    count = 0\n",
        "\n",
        "    def __init__(self, name):\n",
        "        self.name = name\n",
        "        Person.count += 1\n",
        "\n",
        "    @classmethod\n",
        "    def get_total_persons(cls):\n",
        "        return cls.count"
      ],
      "metadata": {
        "id": "NQMdzgZJctXi"
      },
      "execution_count": 101,
      "outputs": []
    },
    {
      "cell_type": "code",
      "source": [
        "p1 = Person(\"Rahul\")\n",
        "p2 = Person(\"Anjali\")\n",
        "\n",
        "\n"
      ],
      "metadata": {
        "id": "rNHAJba9c-5x"
      },
      "execution_count": 102,
      "outputs": []
    },
    {
      "cell_type": "code",
      "source": [
        "print(Person.get_total_persons())"
      ],
      "metadata": {
        "colab": {
          "base_uri": "https://localhost:8080/"
        },
        "id": "Jrhc_NcGdBDn",
        "outputId": "e2f72bcd-ad93-4d13-c3d9-74b256df6545"
      },
      "execution_count": 103,
      "outputs": [
        {
          "output_type": "stream",
          "name": "stdout",
          "text": [
            "2\n"
          ]
        }
      ]
    },
    {
      "cell_type": "code",
      "source": [
        "#Question 9.  Write a class Fraction with attributes numerator and denominator. Override the str method to display the fraction as \"numerator/denominator\".\n",
        "\n",
        "\n",
        "class Fraction:\n",
        "    def __init__(self, numerator, denominator):\n",
        "        if denominator == 0:\n",
        "            raise ValueError(\"Denominator cannot be zero.\")\n",
        "        self.numerator = numerator\n",
        "        self.denominator = denominator\n",
        "\n",
        "    def __str__(self):\n",
        "        return f\"{self.numerator}/{self.denominator}\"\n",
        "\n",
        "\n"
      ],
      "metadata": {
        "id": "JpMzBvT_exVr"
      },
      "execution_count": 104,
      "outputs": []
    },
    {
      "cell_type": "code",
      "source": [
        "\n",
        "f1 = Fraction(3, 4)\n",
        "f2 = Fraction(5, 8)\n",
        "\n",
        "\n",
        "print(f1)\n",
        "print(f2)\n"
      ],
      "metadata": {
        "colab": {
          "base_uri": "https://localhost:8080/"
        },
        "id": "IQ1M1ikphAq4",
        "outputId": "32db5c24-aace-49c3-eef4-bf86853946cb"
      },
      "execution_count": 105,
      "outputs": [
        {
          "output_type": "stream",
          "name": "stdout",
          "text": [
            "3/4\n",
            "5/8\n"
          ]
        }
      ]
    },
    {
      "cell_type": "code",
      "source": [
        "#Quesrtion 10 .Demonstrate operator overloading by creating a class Vector and overriding the add method to add two vectors.\n",
        "\n",
        "class Vector:\n",
        "    def __init__(self, x, y):\n",
        "        self.x = x\n",
        "        self.y = y\n",
        "\n",
        "\n",
        "    def __add__(self, other):\n",
        "        if isinstance(other, Vector):\n",
        "            return Vector(self.x + other.x, self.y + other.y)\n",
        "        else:\n",
        "            raise ValueError(\"Both operands must be instances of the Vector class\")\n",
        "\n",
        "\n",
        "    def __str__(self):\n",
        "        return f\"({self.x}, {self.y})\"\n",
        "\n"
      ],
      "metadata": {
        "id": "APDbBESvhFk_"
      },
      "execution_count": 106,
      "outputs": []
    },
    {
      "cell_type": "code",
      "source": [
        "\n",
        "v1 = Vector(3, 4)\n",
        "v2 = Vector(1, 2)\n",
        "\n",
        "\n",
        "v3 = v1 + v2\n",
        "\n",
        "\n",
        "print(f\"v1: {v1}\")\n",
        "print(f\"v2: {v2}\")\n",
        "print(f\"v3 (v1 + v2): {v3}\")\n"
      ],
      "metadata": {
        "colab": {
          "base_uri": "https://localhost:8080/"
        },
        "id": "puz61W0ihkoq",
        "outputId": "081c8862-f53a-4d3e-e441-99ebeb4a7010"
      },
      "execution_count": 107,
      "outputs": [
        {
          "output_type": "stream",
          "name": "stdout",
          "text": [
            "v1: (3, 4)\n",
            "v2: (1, 2)\n",
            "v3 (v1 + v2): (4, 6)\n"
          ]
        }
      ]
    },
    {
      "cell_type": "code",
      "source": [
        "#Question 11.  Create a class Person with attributes name and age. Add a method greet() that prints \"Hello, my name is {name} and I am {age} years old.\"\n",
        "\n",
        "class Person:\n",
        "  def __init__ (self,name,age):\n",
        "    self.name = name\n",
        "    self.age = age"
      ],
      "metadata": {
        "id": "9gYOIIbQhpgp"
      },
      "execution_count": 110,
      "outputs": []
    },
    {
      "cell_type": "code",
      "source": [
        "person1 = Person(\"Rahul\",25)"
      ],
      "metadata": {
        "id": "1Tg_xmxpiJ7b"
      },
      "execution_count": 113,
      "outputs": []
    },
    {
      "cell_type": "code",
      "source": [
        "print(person1.name)\n",
        "print(person1.age)"
      ],
      "metadata": {
        "colab": {
          "base_uri": "https://localhost:8080/"
        },
        "id": "wTcz3T3eiNRI",
        "outputId": "db553941-9237-4dc0-ae21-93b4a849f13d"
      },
      "execution_count": 115,
      "outputs": [
        {
          "output_type": "stream",
          "name": "stdout",
          "text": [
            "Rahul\n",
            "25\n"
          ]
        }
      ]
    },
    {
      "cell_type": "code",
      "source": [
        "#Question 12. Implement a class Student with attributes name and grades. Create a method average_grade() to compute the average of the grades.\n",
        "\n",
        "\n",
        "class Student:\n",
        "  def __init__(self,name,grades):\n",
        "    self.name = name\n",
        "    self.grades = grades\n",
        "\n",
        "  def average_grade(self):\n",
        "    return sum(self.grades)/len(self.grades)"
      ],
      "metadata": {
        "id": "9qM8oETkif-F"
      },
      "execution_count": 116,
      "outputs": []
    },
    {
      "cell_type": "code",
      "source": [
        "student1 = Student(\"Rahul\",[90,80,70,60])"
      ],
      "metadata": {
        "id": "9vy2yAXsjHM-"
      },
      "execution_count": 117,
      "outputs": []
    },
    {
      "cell_type": "code",
      "source": [
        "print(f\"Average grade of {student1.name}: {student1.average_grade():.2f}\")"
      ],
      "metadata": {
        "colab": {
          "base_uri": "https://localhost:8080/"
        },
        "id": "DLZFS-01jLN1",
        "outputId": "44c00b89-2646-4730-bfc2-a8f53116566f"
      },
      "execution_count": 118,
      "outputs": [
        {
          "output_type": "stream",
          "name": "stdout",
          "text": [
            "Average grade of Rahul: 75.00\n"
          ]
        }
      ]
    },
    {
      "cell_type": "code",
      "source": [
        "#Question 13 .  Create a class Rectangle with methods set_dimensions() to set the dimensions and area() to calculate the area.\n",
        "\n",
        "class Rectangle:\n",
        "    def __init__(self):\n",
        "        self.length = 0\n",
        "        self.width = 0\n",
        "\n",
        "    def set_dimensions(self, length, width):\n",
        "        self.length = length\n",
        "        self.width = width\n",
        "\n",
        "    def area(self):\n",
        "        return self.length * self.width\n",
        "\n",
        "\n",
        "\n",
        "\n"
      ],
      "metadata": {
        "id": "AxhKc-vrjfbC"
      },
      "execution_count": 123,
      "outputs": []
    },
    {
      "cell_type": "code",
      "source": [
        "rect = Rectangle()\n",
        "\n",
        "\n",
        "rect.set_dimensions(5, 10)\n",
        "\n",
        "\n",
        "print(f\"Area of the rectangle: {rect.area()}\")"
      ],
      "metadata": {
        "colab": {
          "base_uri": "https://localhost:8080/"
        },
        "id": "ux3u4YgzkZGo",
        "outputId": "956a80d6-3eaf-4cd4-88ce-1fbf8bc56684"
      },
      "execution_count": 124,
      "outputs": [
        {
          "output_type": "stream",
          "name": "stdout",
          "text": [
            "Area of the rectangle: 50\n"
          ]
        }
      ]
    },
    {
      "cell_type": "code",
      "source": [
        "#Question 14.  Create a class Employee with a method calculate_salary() that computes the salary based on hours worked and hourly rate. Create a derived class Manager that adds a bonus to the salary\n",
        "\n",
        "\n",
        "\n",
        "class Employee:\n",
        "    def __init__(self, name, hours_worked, hourly_rate):\n",
        "        self.name = name\n",
        "        self.hours_worked = hours_worked\n",
        "        self.hourly_rate = hourly_rate\n",
        "\n",
        "    def calculate_salary(self):\n",
        "\n",
        "        return self.hours_worked * self.hourly_rate\n",
        "\n",
        "\n",
        "class Manager(Employee):\n",
        "    def __init__(self, name, hours_worked, hourly_rate, bonus):\n",
        "        super().__init__(name, hours_worked, hourly_rate)\n",
        "        self.bonus = bonus\n",
        "\n",
        "    def calculate_salary(self):\n",
        "\n",
        "        base_salary = super().calculate_salary()\n",
        "        return base_salary + self.bonus\n",
        "\n",
        "\n",
        "\n"
      ],
      "metadata": {
        "id": "59_rCV3-k7B4"
      },
      "execution_count": 126,
      "outputs": []
    },
    {
      "cell_type": "code",
      "source": [
        "employee = Employee(\"John\", 40, 20)\n",
        "\n",
        "\n",
        "manager = Manager(\"Alice\", 40, 25, 500)\n",
        "\n",
        "\n",
        "print(f\"{employee.name}'s Salary: ${employee.calculate_salary()}\")\n",
        "print(f\"{manager.name}'s Salary (with bonus): ${manager.calculate_salary()}\")\n"
      ],
      "metadata": {
        "colab": {
          "base_uri": "https://localhost:8080/"
        },
        "id": "03w9sc1GmRIB",
        "outputId": "689379b4-92b4-4baf-807c-7f843ac38648"
      },
      "execution_count": 127,
      "outputs": [
        {
          "output_type": "stream",
          "name": "stdout",
          "text": [
            "John's Salary: $800\n",
            "Alice's Salary (with bonus): $1500\n"
          ]
        }
      ]
    },
    {
      "cell_type": "code",
      "source": [
        "#Question 15.  Create a class Product with attributes name, price, and quantity. Implement a method total_price() that calculates the total price of the product.\n",
        "\n",
        "\n",
        "class Product:\n",
        "\n",
        "  def __init__(self,name,price,quantity):\n",
        "    self.name = name\n",
        "    self.price = price\n",
        "    self.quantity = quantity\n",
        "\n",
        "  def total_price(self):\n",
        "    return self.price * self.quantity\n"
      ],
      "metadata": {
        "id": "W562oesaltHB"
      },
      "execution_count": 128,
      "outputs": []
    },
    {
      "cell_type": "code",
      "source": [
        "total = Product(\"Pen\",10,5)"
      ],
      "metadata": {
        "id": "JJwxyS7imi7e"
      },
      "execution_count": 129,
      "outputs": []
    },
    {
      "cell_type": "code",
      "source": [
        "total.total_price()"
      ],
      "metadata": {
        "colab": {
          "base_uri": "https://localhost:8080/"
        },
        "id": "yRfrc6rOmoCd",
        "outputId": "24d612a4-86f8-43c8-f7ba-d32cb1cf666f"
      },
      "execution_count": 131,
      "outputs": [
        {
          "output_type": "execute_result",
          "data": {
            "text/plain": [
              "50"
            ]
          },
          "metadata": {},
          "execution_count": 131
        }
      ]
    },
    {
      "cell_type": "code",
      "source": [
        "#Question 16.  Create a class Animal with an abstract method sound(). Create two derived classes Cow and Sheep that implement the sound() method.\n",
        "\n",
        "from abc import ABC, abstractmethod\n",
        "\n",
        "\n",
        "class Animal(ABC):\n",
        "\n",
        "    @abstractmethod\n",
        "    def sound(self):\n",
        "        pass\n",
        "\n",
        "\n",
        "class Cow(Animal):\n",
        "    def sound(self):\n",
        "        return \"Moo'oo...\"\n",
        "\n",
        "# Derived class Sheep\n",
        "class Sheep(Animal):\n",
        "    def sound(self):\n",
        "        return \"Baa'aa...\"\n",
        "\n",
        "\n",
        "\n"
      ],
      "metadata": {
        "id": "IKKUCDmrlwlv"
      },
      "execution_count": 136,
      "outputs": []
    },
    {
      "cell_type": "code",
      "source": [
        "cow = Cow()\n",
        "sheep = Sheep()\n",
        "\n",
        "\n",
        "print(f\"Cow makes sound: {cow.sound()}\")\n",
        "print(f\"Sheep makes sound: {sheep.sound()}\")"
      ],
      "metadata": {
        "colab": {
          "base_uri": "https://localhost:8080/"
        },
        "id": "HhwBWojpmicH",
        "outputId": "74a6531c-78c8-482a-bb37-b23f3160ec22"
      },
      "execution_count": 137,
      "outputs": [
        {
          "output_type": "stream",
          "name": "stdout",
          "text": [
            "Cow makes sound: Moo'oo...\n",
            "Sheep makes sound: Baa'aa...\n"
          ]
        }
      ]
    },
    {
      "cell_type": "code",
      "source": [
        "#Question 17. Create a class Book with attributes title, author, and year_published. Add a method get_book_info() that returns a formatted string with the book's details.\n",
        "\n",
        "\n",
        "class Book:\n",
        "    def __init__(self, title, author, year_published):\n",
        "        self.title = title           # Book title\n",
        "        self.author = author         # Book author\n",
        "        self.year_published = year_published  # Year the book was published\n",
        "\n",
        "    def get_book_info(self):\n",
        "\n",
        "        return f\"'{self.title}' by {self.author}, published in {self.year_published}\"\n",
        "\n",
        "\n",
        "\n",
        "\n"
      ],
      "metadata": {
        "id": "pcLRJpKil0IH"
      },
      "execution_count": 139,
      "outputs": []
    },
    {
      "cell_type": "code",
      "source": [
        "book1 = Book(\"1984\", \"George Orwell\", 1949)\n",
        "\n",
        "\n",
        "print(book1.get_book_info())"
      ],
      "metadata": {
        "colab": {
          "base_uri": "https://localhost:8080/"
        },
        "id": "brYgn0v6nZQe",
        "outputId": "e6bb10c3-934d-4156-b079-b91f01d23f1f"
      },
      "execution_count": 140,
      "outputs": [
        {
          "output_type": "stream",
          "name": "stdout",
          "text": [
            "'1984' by George Orwell, published in 1949\n"
          ]
        }
      ]
    },
    {
      "cell_type": "code",
      "source": [
        "#Question 18. Create a class House with attributes address and price. Create a derived class Mansion that adds an attribute number_of_rooms.\n",
        "\n",
        "\n",
        "\n",
        "\n",
        "class House:\n",
        "    def __init__(self, address, price):\n",
        "        self.address = address\n",
        "        self.price = price\n",
        "\n",
        "    def get_house_info(self):\n",
        "\n",
        "        return f\"Address: {self.address}, Price: ${self.price}\"\n",
        "\n",
        "\n",
        "class Mansion(House):\n",
        "    def __init__(self, address, price, number_of_rooms):\n",
        "        super().__init__(address, price)\n",
        "        self.number_of_rooms = number_of_rooms\n",
        "\n",
        "    def get_mansion_info(self):\n",
        "\n",
        "        house_info = super().get_house_info()\n",
        "        return f\"{house_info}, Number of Rooms: {self.number_of_rooms}\"\n",
        "\n",
        "\n"
      ],
      "metadata": {
        "id": "WtwoKaI9l5R-"
      },
      "execution_count": 141,
      "outputs": []
    },
    {
      "cell_type": "code",
      "source": [
        "\n",
        "house1 = House(\"123 Elm Street\", 500000)\n",
        "\n",
        "\n",
        "mansion1 = Mansion(\"456 Oak Avenue\", 2000000, 10)\n",
        "\n",
        "\n",
        "print(house1.get_house_info())\n",
        "print(mansion1.get_mansion_info())"
      ],
      "metadata": {
        "colab": {
          "base_uri": "https://localhost:8080/"
        },
        "id": "EdF7TT_2n-KO",
        "outputId": "0d3fcd04-098c-4d4e-a6e0-4d05940e4272"
      },
      "execution_count": 142,
      "outputs": [
        {
          "output_type": "stream",
          "name": "stdout",
          "text": [
            "Address: 123 Elm Street, Price: $500000\n",
            "Address: 456 Oak Avenue, Price: $2000000, Number of Rooms: 10\n"
          ]
        }
      ]
    }
  ]
}